{
 "cells": [
  {
   "cell_type": "code",
   "execution_count": 25,
   "metadata": {},
   "outputs": [],
   "source": [
    "import numpy as np\n",
    "import pymc3 as pm\n",
    "import matplotlib.pyplot as plt\n",
    
   ]
  },
  {
   "cell_type": "code",
   "execution_count": 26,
   "metadata": {},
   "outputs": [],
   "source": [
    "N = 20\n",
    "M = 8\n",
    "idx = np.repeat(range(M-1), N)\n",
    "idx = np.append(idx, 7)"
   ]
  },
  {
   "cell_type": "code",
   "execution_count": 27,
   "metadata": {},
   "outputs": [
    {
     "data": {
      "text/plain": [
       "[<matplotlib.lines.Line2D at 0x10f44330>]"
      ]
     },
     "execution_count": 27,
     "metadata": {},
     "output_type": "execute_result"
    },
    {
     "data": {
      "image/png": "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\n",
      "text/plain": [
       "<Figure size 432x288 with 1 Axes>"
      ]
     },
     "metadata": {
      "needs_background": "light"
     },
     "output_type": "display_data"
    }
   ],
   "source": [
    "alpha_real = np.random.normal(2.5, 0.5, size=M)\n",
    "beta_real = np.random.beta(60, 10, size=M)\n",
    "eps_real = np.random.normal(0, 0.5, size=len(idx))\n",
    "\n",
    "y_m = np.zeros(len(idx))\n",
    "x_m = np.random.normal(10, 1, len(idx))\n",
    "y_m = alpha_real[idx] + beta_real[idx]*x_m + eps_real\n",
    "plt.plot(x_m,y_m,'ro')"
   ]
  },
  {
   "cell_type": "code",
   "execution_count": 28,
   "metadata": {},
   "outputs": [
    {
     "data": {
      "image/png": "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\n",
      "text/plain": [
       "<Figure size 432x288 with 8 Axes>"
      ]
     },
     "metadata": {
      "needs_background": "light"
     },
     "output_type": "display_data"
    }
   ],
   "source": [
    "j, k = 0, N\n",
    "for i in range(M):\n",
    "    plt.subplot(2,4,i+1)\n",
    "    plt.scatter(x_m[j:k],y_m[j:k])\n",
    "    plt.xlim(6,15)\n",
    "    plt.ylim(7,17)\n",
    "    j+=N\n",
    "    k+=N\n",
    "plt.tight_layout()"
   ]
  },
  {
   "cell_type": "code",
   "execution_count": 29,
   "metadata": {},
   "outputs": [],
   "source": [
    "x_centered = x_m - x_m.mean()"
   ]
  },
  {
   "cell_type": "code",
   "execution_count": null,
   "metadata": {
    "scrolled": true
   },
   "outputs": [],
   "source": [
    "with pm.Model() as unpooled_model:\n",
    "    alpha_tmp = pm.Normal('alpha_tmp', mu=0, sd=10, shape=M)\n",
    "    beta = pm.Normal('beta', mu=0, sd=10, shape=M)\n",
    "    epsilon = pm.HalfCauchy('epsilon', 5)\n",
    "    \n",
    "    nu = pm.Exponential('nu', 1/30)\n",
    "    \n",
    "    y_pred = pm.StudentT('y_pred', mu=alpha_tmp[idx] + beta[idx]*x_centered, sd=epsilon, nu=nu, observed=y_m)\n",
    "    \n",
    "    alpha = pm.Deterministic('alpha', alpha_tmp - beta*x_m.mean())\n",
    "    \n",
    "    start = pm.find_MAP()\n",
    "    step = pm.NUTS(scaling=start)\n",
    "    trace_up = pm.sample(2000, step=step, start=start)\n",
    "    \n"
   ]
  },
  {
   "cell_type": "code",
   "execution_count": null,
   "metadata": {},
   "outputs": [],
   "source": [
    "varnames = ['alpha', 'beta', 'epsilon', 'nu']\n",
    "pm.traceplot(trace_up, varnames)"
   ]
  },
  {
   "cell_type": "code",
   "execution_count": null,
   "metadata": {},
   "outputs": [],
   "source": [
    "with pm.Model() as hierarchical_model:\n",
    "    alpha_tmp_mu = pm.Normal('alpha_tmp_mu', mu=0, sd=10)\n",
    "    alpha_tmp_sd = pm.HalfNormal('alpha_tmp_sd', 10)\n",
    "    beta_mu = pm.Normal('beta_mu', mu=0, sd=10)\n",
    "    beta_sd = pm.HalfNormal('beta_sd', sd=10)\n",
    "    \n",
    "    alpha_tmp = pm.Normal('alpha_tmp', mu=alpha_tmp_mu, sd=alpha_tmp_sd, shape=M)\n",
    "    beta = pm.Normal('beta', mu=beta_mu, sd=beta_sd, shape=M)\n",
    "    epsilon = pm.HalfCauchy('epsilon', 5)\n",
    "    nu = pm.Exponential('nu', 1/30)\n",
    "    \n",
    "    y_pred = pm.StudentT('y_pred', mu=alpha_tmp[idx] + beta[idx]*x_centered, sd=epsilon, nu=nu, observed=y_m)\n",
    "    \n",
    "    alpha = pm.Deterministic('alpha', alpha_tmp - beta*x_m.mean())\n",
    "    alpha_mu = pm.Deterministic('alpha_mu', alpha_tmp_mu - beta_mu*x_m.mean())\n",
    "    alpha_sd = pm.Deterministic('alpha_sd', alpha_tmp_sd - beta_sd*x_m.mean())\n",
    "    \n",
    "    mu, sds, elbo = pm.variational.advi(n=100000, verbose=False)\n",
    "    cov_scal = np.power(hierarchcal_model.dict_to_array(sds), 2)\n",
    "    step = pm.NUTS(scaling=cov_scal, is_cov=True)\n",
    "    trace_hm = pm.sample(1000, step=step, start=mu)\n",
    "    \n"
   ]
  },
  {
   "cell_type": "code",
   "execution_count": null,
   "metadata": {},
   "outputs": [],
   "source": [
    "varnames = ['alpha', 'alpha_mu', 'alpha_sd', 'beta', 'beta_mu', 'beta_sd', 'epsilon', 'nu']\n",
    "pm.traceplot(trace_hm, varnames)"
   ]
  }
 ],
 "metadata": {
  "kernelspec": {
   "display_name": "Python 3",
   "language": "python",
   "name": "python3"
  },
  "language_info": {
   "codemirror_mode": {
    "name": "ipython",
    "version": 3
   },
   "file_extension": ".py",
   "mimetype": "text/x-python",
   "name": "python",
   "nbconvert_exporter": "python",
   "pygments_lexer": "ipython3",
   "version": "3.7.3"
  }
 },
 "nbformat": 4,
 "nbformat_minor": 2
}
